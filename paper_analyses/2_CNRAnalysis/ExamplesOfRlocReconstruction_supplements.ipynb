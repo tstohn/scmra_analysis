{
 "cells": [
  {
   "cell_type": "code",
   "execution_count": 2,
   "metadata": {},
   "outputs": [],
   "source": [
    "\n",
    "#generate data do compare network quality\n",
    "import sys\n",
    "import numpy as np\n",
    "import sys, getopt, math\n",
    "\n",
    "sys.path.insert(0, '..') #path to helperFunctions\n",
    "\n",
    "from helperFunctions import *\n"
   ]
  },
  {
   "cell_type": "code",
   "execution_count": 12,
   "metadata": {},
   "outputs": [
    {
     "name": "stdout",
     "output_type": "stream",
     "text": [
      "0.07615011911202088\n",
      "0.08044985405011446\n",
      "0.11086799659649824\n",
      "0.10595265711557675\n",
      "0.06817798885801202\n",
      "0.08394641607929947\n",
      "0.14619743270763244\n",
      "0.10308064679602792\n"
     ]
    }
   ],
   "source": [
    "#Extract results from the CNR>MRA simulations\n",
    "\n",
    "#pick the REPEAT==0 to always get the first simulation (just to make sure MRA and CNR was run on same data)\n",
    "\n",
    "#pick noise %in% [0.2, 0.5]\n",
    "\n",
    "NOISE = [0.2, 0.5]\n",
    "REPEAT = 0\n",
    "CELLNUM = 250\n",
    "THETA = 0.02\n",
    "\n",
    "file = \"/DATA/t.stohn/MRA/scMRA-analysis/notebooks/paperAnalyses/2_CNRAnalysis/bin/SIMULATION_CnrOverMra_NoiseRange_CellNum250_04-19-2023|20:59:39.pickle\"\n",
    "result = pickle.load(open(file, 'rb'))\n",
    "\n",
    "#CNR\n",
    "for noise in NOISE:\n",
    "    keyList = [\"MODELTYPE\", \"NOISE\", \"CELLNUM\", \"POPULATIONS\",\"REPEAT\",\"THETA\",\"EDGES\"]\n",
    "    valueList = [\"CNR\", noise, CELLNUM, \"wt,braf\", REPEAT, THETA, 13]\n",
    "    resultObject, params = result.getResult(keyList, valueList) #the result from the simulation\n",
    "\n",
    "    resultObject.rloc[\"wt\"].to_csv(\"./bin/Examples_SupplFigReconstructedRloc_CNR_WT_\" + str(noise) + \".tsv\", sep = \"\\t\")\n",
    "    resultObject.rloc[\"braf\"].to_csv(\"./bin/Examples_SupplFigReconstructedRloc_CNR_BRAF_\" + str(noise) + \".tsv\", sep = \"\\t\")\n",
    "\n",
    "    rmse1 = calc_rmse(rloc_true, resultObject.rloc[\"wt\"])\n",
    "    rmse2 = calc_rmse(rloc_braf, resultObject.rloc[\"braf\"])\n",
    "    print(rmse1)\n",
    "    print(rmse2)\n",
    "\n",
    "#MRA\n",
    "for noise in NOISE:\n",
    "    for pop in [\"WT:wt_braf\",\"BRAF:wt_braf\"]:\n",
    "        keyList = [\"MODELTYPE\", \"NOISE\", \"CELLNUM\", \"POPULATIONS\",\"REPEAT\",\"EDGES\"]\n",
    "        valueList = [\"MRA\", noise, CELLNUM, pop, REPEAT, 13]\n",
    "        resultObject, params = result.getResult(keyList, valueList) #the result from the simulation\n",
    "\n",
    "        if(pop == \"WT:wt_braf\"):\n",
    "            resultObject.rloc.to_csv(\"./bin/Examples_SupplFigReconstructedRloc_MRA_WT_\" + str(noise) + \".tsv\", sep = \"\\t\")\n",
    "            rmse = calc_rmse(rloc_true, resultObject.rloc)\n",
    "            print(rmse)\n",
    "        elif(pop == \"BRAF:wt_braf\"):\n",
    "            resultObject.rloc.to_csv(\"./bin/Examples_SupplFigReconstructedRloc_MRA_BRAF_\" + str(noise) + \".tsv\", sep = \"\\t\")\n",
    "            rmse = calc_rmse(rloc_braf, resultObject.rloc)\n",
    "            print(rmse)\n"
   ]
  },
  {
   "attachments": {},
   "cell_type": "markdown",
   "metadata": {},
   "source": [
    "CNR\n",
    "WT  0.07615011911202088\n",
    "BRAF  0.08044985405011446\n",
    "\n",
    "MRA\n",
    "WT  0.06817798885801202\n",
    "BRAF  0.08394641607929947\n"
   ]
  }
 ],
 "metadata": {
  "kernelspec": {
   "display_name": "mra-analysis",
   "language": "python",
   "name": "python3"
  },
  "language_info": {
   "codemirror_mode": {
    "name": "ipython",
    "version": 3
   },
   "file_extension": ".py",
   "mimetype": "text/x-python",
   "name": "python",
   "nbconvert_exporter": "python",
   "pygments_lexer": "ipython3",
   "version": "3.8.12"
  },
  "orig_nbformat": 4,
  "vscode": {
   "interpreter": {
    "hash": "ff1908dc778f2d65ee233f219b60d34a37117d54f8e09024b728cc2512373202"
   }
  }
 },
 "nbformat": 4,
 "nbformat_minor": 2
}
