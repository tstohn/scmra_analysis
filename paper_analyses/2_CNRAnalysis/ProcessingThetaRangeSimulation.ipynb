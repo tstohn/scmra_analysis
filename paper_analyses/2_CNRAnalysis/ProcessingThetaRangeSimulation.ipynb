{
 "cells": [
  {
   "attachments": {},
   "cell_type": "markdown",
   "metadata": {},
   "source": [
    "EXTRACTING DATA and STORING IT AS TABLE for following plots:\n",
    "\n",
    "- THETA RANGE PLOT (CNR LOWER RMSE THAN MRA)\n",
    "\n",
    "- NETWORK GRAPHS OF MUTANT NETWORKS\n",
    "- CORRELATION PLOT OF WT/MUT RLOC VALUES COMPARED TO TRUE VALUES\n",
    "\n",
    "[ALL SIMULATIONS ARE WITH 2*500 cells and 0.2 NOISE]\n"
   ]
  },
  {
   "cell_type": "code",
   "execution_count": 1,
   "metadata": {},
   "outputs": [],
   "source": [
    "\n",
    "#generate data do compare network quality\n",
    "import sys\n",
    "import numpy as np\n",
    "sys.path.insert(0, '../../helperScripts/')\n",
    "sys.path.insert(0,'/home/t.stohn/Tools/CPLEX_Studio201/cplex/python/3.8/x86-64_linux')\n",
    "\n",
    "from helperFunctions import *\n"
   ]
  },
  {
   "attachments": {},
   "cell_type": "markdown",
   "metadata": {},
   "source": [
    "THETA RANGE:\n",
    "-------------\n",
    "\n",
    "- to write parameters of thetaRange simulation to tsv run scCNR_RMSEDiff... script and calculate the RMSE of the edge \n",
    "  differences, then process in R\n",
    "- checking plots in R shows that we should stick to a theta of 0.02"
   ]
  },
  {
   "attachments": {},
   "cell_type": "markdown",
   "metadata": {},
   "source": [
    "\n",
    "Example Graphs:\n",
    "--------------\n",
    "Retrieve RLOCs for NETWORK VISUALIZATION/ CORRELATION PLOT"
   ]
  },
  {
   "cell_type": "code",
   "execution_count": 7,
   "metadata": {},
   "outputs": [
    {
     "name": "stdout",
     "output_type": "stream",
     "text": [
      "[<scmra.scresult.ScMraResult object at 0x7fc9dfd236d0>]\n"
     ]
    }
   ],
   "source": [
    "\n",
    "pickleFile = \"./bin/SIMULATION_THETA_ESTIMATION_Noise:20_Cellnum:250_04-19-2023|15:09:25.pickle\"\n",
    "result = pickle.load(open(pickleFile, 'rb'))\n",
    "\n",
    "#write out MRA data\n",
    "#------------------------------------\n",
    "\n",
    "#BRAF\n",
    "keyList = [\"MODELTYPE\",\"POPULATIONS\"]\n",
    "valueList = [\"MRA\",\"WT:wt_braf\"]\n",
    "resultObject, params = result.getResult(keyList, valueList, False, True) #the result from the simulation\n",
    "print(resultObject)\n",
    "assert(len(resultObject) == 1)\n",
    "rloc = resultObject[0].rloc\n",
    "rloc = reorder_rloc(rloc)\n",
    "rloc.to_csv(\"./bin/Examples_MRA_WT:wt_braf.tsv\", sep = \"\\t\")\n",
    "\n",
    "#we have two WT in the data: the first is for braf (check order in origional script)\n",
    "keyList = [\"MODELTYPE\",\"POPULATIONS\"]\n",
    "valueList = [\"MRA\",\"BRAF:wt_braf\"]\n",
    "resultObject, params = result.getResult(keyList, valueList, False, True) #the result from the simulation\n",
    "assert(len(resultObject) == 1)\n",
    "rloc = resultObject[0].rloc\n",
    "rloc = reorder_rloc(rloc)\n",
    "rloc.to_csv(\"./bin/Examples_MRA_BRAF:wt_braf.tsv\", sep = \"\\t\")\n",
    "\n",
    "#RAS\n",
    "keyList = [\"MODELTYPE\",\"POPULATIONS\"]\n",
    "valueList = [\"MRA\",\"WT:wt_ras\"]\n",
    "resultObject, params = result.getResult(keyList, valueList, False, True) #the result from the simulation\n",
    "assert(len(resultObject) == 1)\n",
    "rloc = resultObject[0].rloc\n",
    "rloc = reorder_rloc(rloc)\n",
    "rloc.to_csv(\"./bin/Examples_MRA_WT:wt_ras.tsv\", sep = \"\\t\")\n",
    "\n",
    "#we have two WT in the data: the second is for ras (check order in origional script)\n",
    "keyList = [\"MODELTYPE\",\"POPULATIONS\"]\n",
    "valueList = [\"MRA\",\"RAS:wt_ras\"]\n",
    "resultObject, params = result.getResult(keyList, valueList, False, True) #the result from the simulation\n",
    "assert(len(resultObject) == 1)\n",
    "rloc = resultObject[0].rloc\n",
    "rloc = reorder_rloc(rloc)\n",
    "rloc.to_csv(\"./bin/Examples_MRA_RAS:wt_ras.tsv\", sep = \"\\t\")\n"
   ]
  },
  {
   "cell_type": "code",
   "execution_count": 9,
   "metadata": {},
   "outputs": [],
   "source": [
    "#write out CNR data\n",
    "#------------------------------------\n",
    "#BRAF\n",
    "keyList = [\"MODELTYPE\",\"THETA\",\"POPULATIONS\"]\n",
    "valueList = [\"CNR\",0.02,\"wt,braf\"]\n",
    "resultObject, params = result.getResult(keyList, valueList, False, True) #the result from the simulation\n",
    "rloc = resultObject[0].rloc\n",
    "rloc[\"wt\"].to_csv(\"./bin/Examples_CNR_WT:wt_braf.tsv\", sep = \"\\t\")\n",
    "rloc[\"braf\"].to_csv(\"./bin/Examples_CNR_BRAF:wt_braf.tsv\", sep = \"\\t\")\n",
    "\n",
    "#RAS\n",
    "keyList = [\"MODELTYPE\",\"THETA\",\"POPULATIONS\"]\n",
    "valueList = [\"CNR\",0.02,\"wt,ras\"]\n",
    "resultObject, params = result.getResult(keyList, valueList, False, True) #the result from the simulation\n",
    "rloc = resultObject[0].rloc\n",
    "rloc[\"wt\"].to_csv(\"./bin/Examples_CNR_WT:wt_ras.tsv\", sep = \"\\t\")\n",
    "rloc[\"ras\"].to_csv(\"./bin/Examples_CNR_RAS:wt_ras.tsv\", sep = \"\\t\")"
   ]
  }
 ],
 "metadata": {
  "kernelspec": {
   "display_name": "mra-analysis",
   "language": "python",
   "name": "python3"
  },
  "language_info": {
   "codemirror_mode": {
    "name": "ipython",
    "version": 3
   },
   "file_extension": ".py",
   "mimetype": "text/x-python",
   "name": "python",
   "nbconvert_exporter": "python",
   "pygments_lexer": "ipython3",
   "version": "3.8.12"
  },
  "orig_nbformat": 4,
  "vscode": {
   "interpreter": {
    "hash": "ff1908dc778f2d65ee233f219b60d34a37117d54f8e09024b728cc2512373202"
   }
  }
 },
 "nbformat": 4,
 "nbformat_minor": 2
}
